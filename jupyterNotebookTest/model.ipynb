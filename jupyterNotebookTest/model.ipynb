{
 "cells": [
  {
   "cell_type": "markdown",
   "metadata": {},
   "source": [
    "# ketos jupyter notebook machine learning example\n",
    "\n",
    "this is an example for a ketos jupyter notebook.\n",
    "\n",
    "to deploy the notebook in order to allow for external predictions just do the following:\n",
    "1. tag the cells that you would like to be executed for your prediction with the keyword \"ketos_predict\" in the first line of each cell as a comment.\n",
    "\n",
    "2. tag the cells which produce the output for the prediction with the keyword \"ketos_predict_output\", please note that this cell will be executed and the first line of the output will be used as return value for the prediction\n"
   ]
  },
  {
   "cell_type": "code",
   "execution_count": 1,
   "metadata": {},
   "outputs": [
    {
     "name": "stderr",
     "output_type": "stream",
     "text": [
      "Updating HTML index of packages in '.Library'\n",
      "Warning message in file.create(f.tg):\n",
      "“cannot create file '/usr/share/doc/R/html/packages.html', reason 'Permission denied'”Warning message in make.packages.html(.Library):\n",
      "“cannot update HTML package index”"
     ]
    }
   ],
   "source": [
    "install.packages(c('caret', 'plyr', 'e1071'))"
   ]
  },
  {
   "cell_type": "code",
   "execution_count": 9,
   "metadata": {
    "mlServiceFunc": "predict"
   },
   "outputs": [],
   "source": [
    "# ketos_train\n",
    "genPrep = function(){  \n",
    "  library(caret)\n",
    "}\n",
    "\n",
    "splitData = function(seed, data){\n",
    "  # randomly splits data into training (0.8) and test (0.2) data\n",
    "  \n",
    "  set.seed(seed)\n",
    "  training_index = createDataPartition(data[[ncol(data)]], p = 0.8, list = F)\n",
    "  training = data[training_index,]\n",
    "  test = data[-training_index,]\n",
    "  \n",
    "  return(list(training=training,test=test))\n",
    "}"
   ]
  },
  {
   "cell_type": "code",
   "execution_count": 10,
   "metadata": {},
   "outputs": [],
   "source": [
    "# ketos_train\n",
    "ketos_train = function(dataset = NULL, outcomeVar = NULL, metric = \"Accuracy\", control = NULL){\n",
    "  # trains model\n",
    "  form = as.formula(paste(c(outcomeVar, \"~.\"), collapse=\" \"))\n",
    "  \n",
    "  print(\"start train GLMNET\")\n",
    "  set.seed(seed)\n",
    "  trained_model = caret::train(form, data=dataset, method=\"glmnet\", metric=metric, preProc=c(\"center\", \"scale\"), trControl=control)\n",
    "\n",
    "  return(trained_model)\n",
    "  \n",
    "}"
   ]
  },
  {
   "cell_type": "code",
   "execution_count": 11,
   "metadata": {},
   "outputs": [
    {
     "name": "stdout",
     "output_type": "stream",
     "text": [
      "[1] \"start train GLMNET\"\n"
     ]
    }
   ],
   "source": [
    "# ketos_train\n",
    "ketos_data_file = \"iris_data_ml_omop_final.csv\"\n",
    "\n",
    "ketos_data_train = read.csv(ketos_data_file, header = TRUE, sep = \";\", quote = \"\\\"\",dec = \".\", fill = TRUE, comment.char = \"\")\n",
    "genPrep()\n",
    "\n",
    "seed = 7\n",
    "splitData = splitData(seed, ketos_data_train)\n",
    "trainingData = splitData$training\n",
    "testData = splitData$test\n",
    "fileTrain = \"training.csv\"\n",
    "fileTest  = \"test.csv\"\n",
    "\n",
    "write.table(trainingData, fileTrain, sep = \";\", quote = TRUE, dec = \".\", row.names = FALSE, append = FALSE)\n",
    "write.table(testData, fileTest, sep = \";\", quote = TRUE, dec = \".\", row.names = FALSE, append = FALSE)\n",
    "\n",
    "control = trainControl(method=\"repeatedcv\", number=10, repeats=10, sampling=\"down\", savePredictions=\"all\")\n",
    "outcomeVar = \"human.body.structure\"\n",
    "ketos_model = ketos_train(trainingData, outcomeVar,\"Accuracy\",control)\n",
    "modeltoSave = 'ketos_model'\n",
    "save(ketos_model,file = modeltoSave)"
   ]
  },
  {
   "cell_type": "code",
   "execution_count": 1,
   "metadata": {},
   "outputs": [
    {
     "name": "stderr",
     "output_type": "stream",
     "text": [
      "Warning message in as.POSIXlt.POSIXct(Sys.time()):\n",
      "“unknown timezone 'zone/tz/2017c.1.0/zoneinfo/Europe/Berlin'”"
     ]
    },
    {
     "name": "stdout",
     "output_type": "stream",
     "text": [
      "[1] \"bad body structure\"\n"
     ]
    }
   ],
   "source": [
    "#ketos_predict, ketos_predict_output\n",
    "ketos_predict = function(){\n",
    "    ketos_predict_data = (\"tmpDummyUrl-will be set by the system automatically insert your tmp url here to get a data example\")\n",
    "    load(\"ketos_model\")\n",
    "    predict_data = read.csv('test.csv', header = TRUE, sep = \";\", quote = \"\\\"\",dec = \".\", fill = TRUE, comment.char = \"\")\n",
    "    \n",
    "    prediction = predict(ketos_model, predict_data)\n",
    "    return (prediction)\n",
    "}\n",
    "\n",
    "print(as.character(ketos_predict()))"
   ]
  },
  {
   "cell_type": "code",
   "execution_count": null,
   "metadata": {},
   "outputs": [],
   "source": []
  }
 ],
 "metadata": {
  "celltoolbar": "Edit Metadata",
  "kernelspec": {
   "display_name": "R",
   "language": "R",
   "name": "ir"
  },
  "language_info": {
   "codemirror_mode": "r",
   "file_extension": ".r",
   "mimetype": "text/x-r-source",
   "name": "R",
   "pygments_lexer": "r",
   "version": "3.4.0"
  }
 },
 "nbformat": 4,
 "nbformat_minor": 2
}
