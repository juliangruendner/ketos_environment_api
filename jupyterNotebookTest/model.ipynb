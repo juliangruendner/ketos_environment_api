{
 "cells": [
  {
   "cell_type": "markdown",
   "metadata": {},
   "source": [
    "# ketos jupyter notebook machine learning example\n",
    "\n",
    "this is an example for a ketos jupyter notebook.\n",
    "\n",
    "to deploy the notebook in order to allow for external predictions just do the following:\n",
    "1. tag the cells that you would like to be executed for your prediction with the keyword \"ketos_predict\" in the first line of each cell as a comment.\n",
    "\n",
    "2. tag the cells which produce the output for the prediction with the keyword \"ketos_predict_output\", please note that this cell will be executed and the first line of the output will be used as return value for the prediction\n"
   ]
  },
  {
   "cell_type": "code",
   "execution_count": null,
   "metadata": {},
   "outputs": [],
   "source": [
    "# ketos_init\n",
    "install.packages(c('caret', 'plyr', 'e1071', 'glmnet'))"
   ]
  },
  {
   "cell_type": "code",
   "execution_count": null,
   "metadata": {
    "mlServiceFunc": "predict"
   },
   "outputs": [],
   "source": [
    "# ketos_train\n",
    "genPrep = function(){  \n",
    "  library(caret)\n",
    "}\n",
    "\n",
    "splitData = function(seed, data){\n",
    "# randomly splits data into training (0.8) and test (0.2) data\n",
    "  \n",
    "  set.seed(seed)\n",
    "  training_index = createDataPartition(data[[ncol(data)]], p = 0.8, list = F)\n",
    "  training = data[training_index,]\n",
    "  test = data[-training_index,]\n",
    "  \n",
    "  return(list(training=training,test=test))\n",
    "}"
   ]
  },
  {
   "cell_type": "code",
   "execution_count": null,
   "metadata": {},
   "outputs": [],
   "source": [
    "# ketos_train\n",
    "ketos_train = function(dataset = NULL, outcomeVar = NULL, metric = \"Accuracy\", control = NULL){\n",
    "  # trains model\n",
    "  form = as.formula(paste(c(outcomeVar, \"~.\"), collapse=\" \"))\n",
    "  \n",
    "  print(\"start train GLMNET\")\n",
    "  set.seed(seed)\n",
    "  trained_model = caret::train(form, data=dataset, method=\"glmnet\", metric=metric, preProc=c(\"center\", \"scale\"), trControl=control)\n",
    "\n",
    "  return(trained_model)\n",
    "  \n",
    "}"
   ]
  },
  {
   "cell_type": "code",
   "execution_count": null,
   "metadata": {},
   "outputs": [],
   "source": [
    "# ketos_train\n",
    "ketos_Input_data = (\"paste your training data url from your ketos system here to get your training data\")\n",
    "#ketos_data_file = \"ketos_predict_example.csv\"\n",
    "\n",
    "#ketos_data_train = read.csv(ketos_data_file, header = TRUE, sep = \";\", quote = \"\\\"\",dec = \".\", fill = TRUE, comment.char = \"\")\n",
    "ketos_data_train = read.csv(url(ketos_Input_data))\n",
    "genPrep()\n",
    "\n",
    "seed = 7\n",
    "#splitData = splitData(seed, ketos_data_train)\n",
    "#trainingData = splitData$training\n",
    "#testData = splitData$test\n",
    "#fileTrain = \"training.csv\"\n",
    "#fileTest  = \"test.csv\"\n",
    "#write.table(trainingData, fileTrain, sep = \";\", quote = TRUE, dec = \".\", row.names = FALSE, append = FALSE)\n",
    "#write.table(testData, fileTest, sep = \";\", quote = TRUE, dec = \".\", row.names = FALSE, append = FALSE)\n",
    "\n",
    "control = trainControl(method=\"repeatedcv\", number=10, repeats=10, sampling=\"down\", savePredictions=\"all\")\n",
    "outcomeVar = \"human.body.structure\"\n",
    "ketos_model = ketos_train(ketos_data_train, outcomeVar,\"Accuracy\",control)\n",
    "modeltoSave = 'ketos_model'\n",
    "save(ketos_model,file = modeltoSave)"
   ]
  },
  {
   "cell_type": "code",
   "execution_count": null,
   "metadata": {},
   "outputs": [],
   "source": [
    "#ketos_predict, ketos_predict_output\n",
    "\n",
    "format_to_json = function(patientIds, predictions){\n",
    "    ret_json = \"[\"\n",
    "    ret_json = paste(ret_json,'{\"patientId\":\"',patientIds[1] ,'\", \"prediction\":\"',predictions[1], '\"}', sep=\"\")\n",
    "    \n",
    "    if(!length(patientIds == 1)){\n",
    "    for(i in 2:length(patientIds)){\n",
    "        patientId = patientIds[i]\n",
    "        prediction = predictions[i]\n",
    "        \n",
    "        ret_json = paste(ret_json,',{\"patientId\":\"',patientId ,'\", \"prediction\":\"' ,prediction, '\"}', sep=\"\")\n",
    "    }\n",
    "        }\n",
    "    ret_json = paste(ret_json, \"]\", sep=\"\")\n",
    "    \n",
    "    return (ret_json)\n",
    "}\n",
    "\n",
    "ketos_predict = function(){\n",
    "    ketos_predict_data = (\"csv url will be inserted for the predict call here automatically - paste your url here to test ur predict function\")\n",
    "    load(\"ketos_model\")\n",
    "    predict_data = read.csv(url(ketos_predict_data))\n",
    "    #predict_data = read.csv('test.csv', header = TRUE, sep = \";\", quote = \"\\\"\",dec = \".\", fill = TRUE, comment.char = \"\")\n",
    "    \n",
    "    prediction = predict(ketos_model, predict_data)\n",
    "    prediction = format_to_json(predict_data$subject, prediction)\n",
    "    return (prediction)\n",
    "}\n",
    "#print(ketos_predict())\n",
    "print(ketos_predict(), quote=FALSE)\n"
   ]
  },
  {
   "cell_type": "code",
   "execution_count": null,
   "metadata": {},
   "outputs": [],
   "source": []
  }
 ],
 "metadata": {
  "celltoolbar": "Edit Metadata",
  "kernelspec": {
   "display_name": "R",
   "language": "R",
   "name": "ir"
  },
  "language_info": {
   "codemirror_mode": "r",
   "file_extension": ".r",
   "mimetype": "text/x-r-source",
   "name": "R",
   "pygments_lexer": "r",
   "version": "3.3.3"
  }
 },
 "nbformat": 4,
 "nbformat_minor": 2
}
