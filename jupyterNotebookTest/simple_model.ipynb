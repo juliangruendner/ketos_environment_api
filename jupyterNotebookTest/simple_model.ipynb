{
 "cells": [
  {
   "cell_type": "code",
   "execution_count": 6,
   "metadata": {},
   "outputs": [
    {
     "name": "stdout",
     "output_type": "stream",
     "text": [
      "\n",
      "The downloaded binary packages are in\n",
      "\t/var/folders/n_/8fz8dtn90_3gc0cscfmjk4d80000gn/T//RtmpuNp8gZ/downloaded_packages\n"
     ]
    }
   ],
   "source": [
    "install.packages(c('caret', 'plyr'))"
   ]
  },
  {
   "cell_type": "code",
   "execution_count": 7,
   "metadata": {},
   "outputs": [],
   "source": [
    "genPrep <- function(seed){\n",
    "  #Clean environment \n",
    "  rm(list=ls())\n",
    "  gc()\n",
    "  \n",
    "  #include libraries\n",
    "  library(caret)\n",
    "}\n",
    "\n",
    "splitData <- function(seed, data){\n",
    "  # randomly splits data into training (0.8) and test (0.2) data\n",
    "  \n",
    "  set.seed(seed)\n",
    "  training_index <- createDataPartition(data[[ncol(data)]], p = 0.8, list = F)\n",
    "  training <- data[training_index,]\n",
    "  test <- data[-training_index,]\n",
    "  \n",
    "  return(list(training=training,test=test))\n",
    "}"
   ]
  },
  {
   "cell_type": "code",
   "execution_count": 8,
   "metadata": {},
   "outputs": [],
   "source": [
    "ketos_train <- function(dataset = NULL, outcomeVar = NULL, metric = \"Accuracy\", control = NULL){\n",
    "  # trains all the caret models according to control and metric\n",
    "  \n",
    "  form <- as.formula(paste(c(outcomeVar, \"~.\"), collapse=\" \"))\n",
    "  \n",
    "  print(\"start train GLMNET\")\n",
    "  set.seed(seed)\n",
    "  trained_model <- caret::train(form, data=dataset, method=\"glmnet\", metric=metric, preProc=c(\"center\", \"scale\"), trControl=control)\n",
    "\n",
    "  return(trained_model)\n",
    "  \n",
    "}"
   ]
  },
  {
   "cell_type": "code",
   "execution_count": 9,
   "metadata": {},
   "outputs": [
    {
     "name": "stdout",
     "output_type": "stream",
     "text": [
      "[1] \"start train GLMNET\"\n"
     ]
    },
    {
     "name": "stderr",
     "output_type": "stream",
     "text": [
      "Warning message in get0(oNam, envir = ns):\n",
      "“restarting interrupted promise evaluation”Warning message in get0(oNam, envir = ns):\n",
      "“internal error -3 in R_decompress1”"
     ]
    },
    {
     "ename": "ERROR",
     "evalue": "Error in get0(oNam, envir = ns): lazy-load database '/Library/Frameworks/R.framework/Versions/3.4/Resources/library/glmnet/R/glmnet.rdb' is corrupt\n",
     "output_type": "error",
     "traceback": [
      "Error in get0(oNam, envir = ns): lazy-load database '/Library/Frameworks/R.framework/Versions/3.4/Resources/library/glmnet/R/glmnet.rdb' is corrupt\nTraceback:\n",
      "1. ketos_train(trainingData, outcomeVar, \"Accuracy\", control)",
      "2. caret::train(form, data = dataset, method = \"glmnet\", metric = metric, \n .     preProc = c(\"center\", \"scale\"), trControl = control)   # at line 8 of file <text>",
      "3. train.formula(form, data = dataset, method = \"glmnet\", metric = metric, \n .     preProc = c(\"center\", \"scale\"), trControl = control)",
      "4. train(x, y, weights = w, ...)",
      "5. train.default(x, y, weights = w, ...)",
      "6. models$grid(x = predict(ppObj, x), y = y, len = tuneLength, search = trControl$search)",
      "7. glmnet::glmnet   # at line 13-16 of file glmnet.R",
      "8. getExportedValue(pkg, name)",
      "9. get0(oNam, envir = ns)"
     ]
    }
   ],
   "source": [
    "ketos_data_file <- \"iris_data_ml_omop_final.csv\"\n",
    "\n",
    "\n",
    "ketos_data_train <- read.csv(ketos_data_file, header = TRUE, sep = \";\", quote = \"\\\"\",dec = \".\", fill = TRUE, comment.char = \"\")\n",
    "genPrep()\n",
    "\n",
    "seed <- 7\n",
    "splitData <- splitData(seed, ketos_data_train)\n",
    "trainingData<-splitData$training\n",
    "testData <- splitData$test\n",
    "fileTrain <- \"training.csv\"\n",
    "fileTest <- \"test.csv\"\n",
    "\n",
    "write.table(trainingData, fileTrain, sep = \";\", quote = TRUE, dec = \".\", row.names = FALSE, append = FALSE)\n",
    "write.table(testData, fileTest, sep = \";\", quote = TRUE, dec = \".\", row.names = FALSE, append = FALSE)\n",
    "\n",
    "control <- trainControl(method=\"repeatedcv\", number=10, repeats=10, sampling=\"down\", savePredictions=\"all\")\n",
    "outcomeVar <- \"human.body.structure\"\n",
    "ketos_model <- ketos_train(trainingData, outcomeVar,\"Accuracy\",control)\n",
    "modeltoSave <- 'ketos_model'\n",
    "save(ketos_model,file = modeltoSave)\n"
   ]
  },
  {
   "cell_type": "code",
   "execution_count": 16,
   "metadata": {},
   "outputs": [
    {
     "data": {
      "text/html": [
       "'bad body structure'"
      ],
      "text/latex": [
       "'bad body structure'"
      ],
      "text/markdown": [
       "'bad body structure'"
      ],
      "text/plain": [
       "[1] \"bad body structure\""
      ]
     },
     "metadata": {},
     "output_type": "display_data"
    }
   ],
   "source": [
    "#ketos_predict\n",
    "ketos_predict = function(){\n",
    "    ketos_predict_data = (\"tmpDummyUrl-will be set by the system automatically\")\n",
    "    load(\"ketos_model\")\n",
    "    predict_data <- read.csv('test_input.csv', header = TRUE, sep = \";\", quote = \"\\\"\",dec = \".\", fill = TRUE, comment.char = \"\")\n",
    "    \n",
    "    prediction = predict(ketos_model, predict_data)\n",
    "    return (prediction)\n",
    "}\n",
    "\n",
    "as.character(ketos_predict())"
   ]
  },
  {
   "cell_type": "code",
   "execution_count": null,
   "metadata": {},
   "outputs": [],
   "source": []
  }
 ],
 "metadata": {
  "kernelspec": {
   "display_name": "R",
   "language": "R",
   "name": "ir"
  },
  "language_info": {
   "codemirror_mode": "r",
   "file_extension": ".r",
   "mimetype": "text/x-r-source",
   "name": "R",
   "pygments_lexer": "r",
   "version": "3.4.0"
  }
 },
 "nbformat": 4,
 "nbformat_minor": 2
}
