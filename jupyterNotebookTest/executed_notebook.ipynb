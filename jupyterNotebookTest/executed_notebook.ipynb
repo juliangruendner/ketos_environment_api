{
 "cells": [
  {
   "cell_type": "code",
   "execution_count": 20,
   "metadata": {},
   "outputs": [
    {
     "name": "stderr",
     "output_type": "stream",
     "text": [
      "Updating HTML index of packages in '.Library'\n",
      "Warning message in file.create(f.tg):\n",
      "“cannot create file '/usr/share/doc/R/html/packages.html', reason 'Permission denied'”Warning message in make.packages.html(.Library):\n",
      "“cannot update HTML package index”"
     ]
    }
   ],
   "source": [
    "\n",
    "install.packages(c('caret', 'plyr', 'e1071'))"
   ]
  },
  {
   "cell_type": "code",
   "execution_count": 1,
   "metadata": {
    "mlServiceFunc": "predict"
   },
   "outputs": [],
   "source": [
    "genPrep <- function(seed){\n",
    "  #Clean environment \n",
    "  rm(list=ls())\n",
    "  gc()\n",
    "  \n",
    "  #include libraries\n",
    "  library(caret)\n",
    "}\n",
    "\n",
    "splitData <- function(seed, data){\n",
    "  # randomly splits data into training (0.8) and test (0.2) data\n",
    "  \n",
    "  set.seed(seed)\n",
    "  training_index <- createDataPartition(data[[ncol(data)]], p = 0.8, list = F)\n",
    "  training <- data[training_index,]\n",
    "  test <- data[-training_index,]\n",
    "  \n",
    "  return(list(training=training,test=test))\n",
    "}"
   ]
  },
  {
   "cell_type": "code",
   "execution_count": 22,
   "metadata": {},
   "outputs": [
    {
     "name": "stdout",
     "output_type": "stream",
     "text": [
      "[1] \"reached\"\n"
     ]
    }
   ],
   "source": [
    "\n",
    "ketos_train <- function(dataset = NULL, outcomeVar = NULL, metric = \"Accuracy\", control = NULL){\n",
    "  # trains all the caret models according to control and metric\n",
    "  \n",
    "  form <- as.formula(paste(c(outcomeVar, \"~.\"), collapse=\" \"))\n",
    "  \n",
    "  print(\"start train GLMNET\")\n",
    "  set.seed(seed)\n",
    "  trained_model <- caret::train(form, data=dataset, method=\"glmnet\", metric=metric, preProc=c(\"center\", \"scale\"), trControl=control)\n",
    "\n",
    "  return(trained_model)\n",
    "  \n",
    "}\n",
    "print('reached')"
   ]
  },
  {
   "cell_type": "code",
   "execution_count": 2,
   "metadata": {},
   "outputs": [
    {
     "name": "stderr",
     "output_type": "stream",
     "text": [
      "Warning message:\n",
      "“package ‘caret’ was built under R version 3.4.1”Loading required package: lattice\n",
      "Loading required package: ggplot2\n"
     ]
    }
   ],
   "source": [
    "ketos_data_file <- \"iris_data_ml_omop_final.csv\"\n",
    "\n",
    "\n",
    "ketos_data_train <- read.csv(ketos_data_file, header = TRUE, sep = \";\", quote = \"\\\"\",dec = \".\", fill = TRUE, comment.char = \"\")\n",
    "genPrep()"
   ]
  },
  {
   "cell_type": "code",
   "execution_count": 24,
   "metadata": {},
   "outputs": [
    {
     "name": "stdout",
     "output_type": "stream",
     "text": [
      "[1] \"start train GLMNET\"\n"
     ]
    },
    {
     "name": "stderr",
     "output_type": "stream",
     "text": [
      "Loading required package: Matrix\n",
      "Loading required package: foreach\n",
      "Loaded glmnet 2.0-13\n",
      "\n"
     ]
    }
   ],
   "source": [
    "ketos_data_file <- \"iris_data_ml_omop_final.csv\"\n",
    "\n",
    "\n",
    "ketos_data_train <- read.csv(ketos_data_file, header = TRUE, sep = \";\", quote = \"\\\"\",dec = \".\", fill = TRUE, comment.char = \"\")\n",
    "genPrep()\n",
    "\n",
    "seed <- 7\n",
    "splitData <- splitData(seed, ketos_data_train)\n",
    "trainingData<-splitData$training\n",
    "testData <- splitData$test\n",
    "fileTrain <- \"training.csv\"\n",
    "fileTest <- \"test.csv\"\n",
    "\n",
    "write.table(trainingData, fileTrain, sep = \";\", quote = TRUE, dec = \".\", row.names = FALSE, append = FALSE)\n",
    "write.table(testData, fileTest, sep = \";\", quote = TRUE, dec = \".\", row.names = FALSE, append = FALSE)\n",
    "\n",
    "control <- trainControl(method=\"repeatedcv\", number=10, repeats=10, sampling=\"down\", savePredictions=\"all\")\n",
    "outcomeVar <- \"human.body.structure\"\n",
    "ketos_model <- ketos_train(trainingData, outcomeVar,\"Accuracy\",control)\n",
    "modeltoSave <- 'ketos_model'\n",
    "save(ketos_model,file = modeltoSave)"
   ]
  },
  {
   "cell_type": "code",
   "execution_count": 1,
   "metadata": {
    "mlService": "predict"
   },
   "outputs": [
    {
     "data": {
      "text/html": [
       "'bad body structure'"
      ],
      "text/latex": [
       "'bad body structure'"
      ],
      "text/markdown": [
       "'bad body structure'"
      ],
      "text/plain": [
       "[1] \"bad body structure\""
      ]
     },
     "metadata": {},
     "output_type": "display_data"
    }
   ],
   "source": [
    "#ketos_predict, ketos_predict_output, ketos_train, , , test\n",
    "ketos_predict = function(){\n",
    "    ketos_predict_data = (\"tmpDummyUrl-will be set by the system automatically\")\n",
    "    load(\"ketos_model\")\n",
    "    predict_data <- read.csv('test_input.csv', header = TRUE, sep = \";\", quote = \"\\\"\",dec = \".\", fill = TRUE, comment.char = \"\")\n",
    "    \n",
    "    prediction = predict(ketos_model, predict_data)\n",
    "    return (prediction)\n",
    "}\n",
    "\n",
    "as.character(ketos_predict())"
   ]
  },
  {
   "cell_type": "code",
   "execution_count": null,
   "metadata": {},
   "outputs": [],
   "source": []
  },
  {
   "cell_type": "code",
   "execution_count": null,
   "metadata": {},
   "outputs": [],
   "source": []
  },
  {
   "cell_type": "code",
   "execution_count": null,
   "metadata": {},
   "outputs": [],
   "source": []
  },
  {
   "cell_type": "code",
   "execution_count": null,
   "metadata": {},
   "outputs": [],
   "source": []
  },
  {
   "cell_type": "code",
   "execution_count": null,
   "metadata": {},
   "outputs": [],
   "source": []
  }
 ],
 "metadata": {
  "celltoolbar": "Edit Metadata",
  "kernelspec": {
   "display_name": "R",
   "language": "R",
   "name": "ir"
  },
  "language_info": {
   "codemirror_mode": "r",
   "file_extension": ".r",
   "mimetype": "text/x-r-source",
   "name": "R",
   "pygments_lexer": "r",
   "version": "3.4.0"
  }
 },
 "nbformat": 4,
 "nbformat_minor": 2
}
