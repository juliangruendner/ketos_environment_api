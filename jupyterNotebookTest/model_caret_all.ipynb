{
 "cells": [
  {
   "cell_type": "code",
   "execution_count": 29,
   "metadata": {},
   "outputs": [
    {
     "name": "stderr",
     "output_type": "stream",
     "text": [
      "Warning message in download.file(url, destfile, method, mode = \"wb\", ...):\n",
      "“URL 'https://cran.r-project.org/bin/macosx/el-capitan/contrib/3.4/randomForest_4.6-12.tgz': status was 'Couldn't resolve host name'”Warning message in download.packages(pkgs, destdir = tmpd, available = available, :\n",
      "“download of package ‘randomForest’ failed”Warning message in download.file(url, destfile, method, mode = \"wb\", ...):\n",
      "“URL 'https://cran.r-project.org/bin/macosx/el-capitan/contrib/3.4/caret_6.0-77.tgz': status was 'Couldn't resolve host name'”Warning message in download.packages(pkgs, destdir = tmpd, available = available, :\n",
      "“download of package ‘caret’ failed”Warning message in download.file(url, destfile, method, mode = \"wb\", ...):\n",
      "“URL 'https://cran.r-project.org/bin/macosx/el-capitan/contrib/3.4/doMC_1.3.4.tgz': status was 'Couldn't resolve host name'”Warning message in download.packages(pkgs, destdir = tmpd, available = available, :\n",
      "“download of package ‘doMC’ failed”Warning message in download.file(url, destfile, method, mode = \"wb\", ...):\n",
      "“URL 'https://cran.r-project.org/bin/macosx/el-capitan/contrib/3.4/plyr_1.8.4.tgz': status was 'Couldn't resolve host name'”Warning message in download.packages(pkgs, destdir = tmpd, available = available, :\n",
      "“download of package ‘plyr’ failed”Warning message in download.file(url, destfile, method, mode = \"wb\", ...):\n",
      "“URL 'https://cran.r-project.org/bin/macosx/el-capitan/contrib/3.4/reshape_0.8.7.tgz': status was 'Couldn't resolve host name'”Warning message in download.packages(pkgs, destdir = tmpd, available = available, :\n",
      "“download of package ‘reshape’ failed”"
     ]
    }
   ],
   "source": [
    "install.packages(c('randomForest', 'caret', 'doMC', 'plyr', 'reshape'))"
   ]
  },
  {
   "cell_type": "code",
   "execution_count": 2,
   "metadata": {},
   "outputs": [],
   "source": [
    "genPrep <- function(seed){\n",
    "  #Clean environment \n",
    "  rm(list=ls())\n",
    "  gc()\n",
    "  \n",
    "  #include libraries\n",
    "  library(caret)\n",
    "  library(randomForest)\n",
    "  library(doMC)\n",
    "  library(plyr)\n",
    "  library(reshape)\n",
    "  \n",
    "  #register DoMC cores\n",
    "  registerDoMC(cores = 8)\n",
    "}\n",
    "\n",
    "splitData <- function(seed, data){\n",
    "  # randomly splits data into training (0.8) and test (0.2) data\n",
    "  \n",
    "  set.seed(seed)\n",
    "  training_index <- createDataPartition(data[[ncol(data)]], p = 0.8, list = F)\n",
    "  training <- data[training_index,]\n",
    "  test <- data[-training_index,]\n",
    "  \n",
    "  return(list(training=training,test=test))\n",
    "}"
   ]
  },
  {
   "cell_type": "code",
   "execution_count": 3,
   "metadata": {},
   "outputs": [],
   "source": [
    "trainModels <- function(dataset = NULL, outcomeVar = NULL, metric = \"Accuracy\", control = NULL){\n",
    "  # trains all the caret models according to control and metric\n",
    "  \n",
    "  retList <- list()\n",
    "  \n",
    "  form <- as.formula(paste(c(outcomeVar, \"~.\"), collapse=\" \"))\n",
    "  \n",
    "  #set.seed(seed)\n",
    "  \n",
    "  print(\"start train GLMNET\")\n",
    "  set.seed(seed)\n",
    "  retList$glmnet <- caret::train(form, data=dataset, method=\"glmnet\", metric=metric, preProc=c(\"center\", \"scale\"), trControl=control)\n",
    "\n",
    "  # KNN (KNN - k-nearest-neighbour)\n",
    "  print(\"start train KNN\")\n",
    "  set.seed(seed)\n",
    "  retList$knn <- caret::train(form, data=dataset, method=\"knn\", metric=metric, preProc=c(\"center\", \"scale\"), trControl=control)\n",
    "\n",
    "  # nnet (ANN - artificial neural network)\n",
    "  print(\"start train ANN\")\n",
    "  set.seed(seed)\n",
    "  retList$ann <- caret::train(form, data=dataset, method=\"nnet\", metric=metric, trControl=control)\n",
    "\n",
    "  #C5.0 (DT - decision tree)\n",
    "  print(\"start train DT\")\n",
    "  set.seed(seed)\n",
    "  retList$dt <- caret::train(form, data=dataset, method=\"C5.0\", metric=metric, trControl=control)\n",
    "\n",
    "  # RF (RF - random forest)\n",
    "  print(\"start train RF\")\n",
    "  set.seed(seed)\n",
    "  retList$rf <- caret::train(form, data=dataset, method=\"rf\", metric=metric, trControl=control)\n",
    "  \n",
    "  return(retList)\n",
    "  \n",
    "}"
   ]
  },
  {
   "cell_type": "code",
   "execution_count": 4,
   "metadata": {},
   "outputs": [
    {
     "name": "stderr",
     "output_type": "stream",
     "text": [
      "Warning message:\n",
      "“package ‘caret’ was built under R version 3.4.1”Loading required package: lattice\n",
      "Loading required package: ggplot2\n",
      "Warning message in as.POSIXlt.POSIXct(Sys.time()):\n",
      "“unknown timezone 'zone/tz/2017c.1.0/zoneinfo/Europe/Berlin'”randomForest 4.6-12\n",
      "Type rfNews() to see new features/changes/bug fixes.\n",
      "\n",
      "Attaching package: ‘randomForest’\n",
      "\n",
      "The following object is masked from ‘package:ggplot2’:\n",
      "\n",
      "    margin\n",
      "\n",
      "Loading required package: foreach\n",
      "Loading required package: iterators\n",
      "Loading required package: parallel\n",
      "Warning message:\n",
      "“package ‘reshape’ was built under R version 3.4.1”\n",
      "Attaching package: ‘reshape’\n",
      "\n",
      "The following objects are masked from ‘package:plyr’:\n",
      "\n",
      "    rename, round_any\n",
      "\n"
     ]
    },
    {
     "name": "stdout",
     "output_type": "stream",
     "text": [
      "[1] \"start train GLMNET\"\n"
     ]
    },
    {
     "name": "stderr",
     "output_type": "stream",
     "text": [
      "Loading required package: Matrix\n",
      "\n",
      "Attaching package: ‘Matrix’\n",
      "\n",
      "The following object is masked from ‘package:reshape’:\n",
      "\n",
      "    expand\n",
      "\n",
      "Loaded glmnet 2.0-10\n",
      "\n"
     ]
    },
    {
     "name": "stdout",
     "output_type": "stream",
     "text": [
      "[1] \"start train KNN\"\n",
      "[1] \"start train ANN\"\n",
      "# weights:  48\n",
      "initial  value 142.841981 \n",
      "iter  10 value 125.517598\n",
      "iter  20 value 57.703205\n",
      "iter  30 value 32.302878\n",
      "iter  40 value 15.723382\n",
      "iter  50 value 14.780663\n",
      "iter  60 value 14.239399\n",
      "iter  70 value 12.953009\n",
      "iter  80 value 12.403078\n",
      "final  value 12.401622 \n",
      "converged\n",
      "[1] \"start train DT\"\n",
      "[1] \"start train RF\"\n"
     ]
    }
   ],
   "source": [
    "dataFile <- \"iris_data_ml_omop_final.csv\"\n",
    "\n",
    "\n",
    "data <- read.csv(dataFile, header = TRUE, sep = \";\", quote = \"\\\"\",dec = \".\", fill = TRUE, comment.char = \"\")\n",
    "genPrep()\n",
    "\n",
    "seed <- 7\n",
    "splitData <- splitData(seed, data)\n",
    "trainingData<-splitData$training\n",
    "testData <- splitData$test\n",
    "fileTrain <- \"training.csv\"\n",
    "fileTest <- \"test.csv\"\n",
    "\n",
    "write.table(trainingData, fileTrain, sep = \";\", quote = TRUE, dec = \".\", row.names = FALSE, append = FALSE)\n",
    "write.table(testData, fileTest, sep = \";\", quote = TRUE, dec = \".\", row.names = FALSE, append = FALSE)\n",
    "\n",
    "metric <- \"Accuracy\"\n",
    "control <- trainControl(method=\"repeatedcv\", number=10, repeats=10, sampling=\"down\", savePredictions=\"all\")\n",
    "outcomeVar <- \"human.body.structure\"\n",
    "trainedModels <- trainModels(trainingData, outcomeVar,metric,control)\n",
    "modeltoSave <- 'myCreatedModels'\n",
    "save(trainedModels,file = modeltoSave)"
   ]
  },
  {
   "cell_type": "code",
   "execution_count": 11,
   "metadata": {},
   "outputs": [
    {
     "data": {
      "text/html": [
       "<table>\n",
       "<thead><tr><th scope=col>Model</th><th scope=col>Accuracy</th></tr></thead>\n",
       "<tbody>\n",
       "\t<tr><td>glmnet   </td><td>1.0000000</td></tr>\n",
       "\t<tr><td>knn      </td><td>1.0000000</td></tr>\n",
       "\t<tr><td>nnet     </td><td>1.0000000</td></tr>\n",
       "\t<tr><td>C5.0     </td><td>0.9333333</td></tr>\n",
       "\t<tr><td>rf       </td><td>1.0000000</td></tr>\n",
       "</tbody>\n",
       "</table>\n"
      ],
      "text/latex": [
       "\\begin{tabular}{r|ll}\n",
       " Model & Accuracy\\\\\n",
       "\\hline\n",
       "\t glmnet    & 1.0000000\\\\\n",
       "\t knn       & 1.0000000\\\\\n",
       "\t nnet      & 1.0000000\\\\\n",
       "\t C5.0      & 0.9333333\\\\\n",
       "\t rf        & 1.0000000\\\\\n",
       "\\end{tabular}\n"
      ],
      "text/markdown": [
       "\n",
       "Model | Accuracy | \n",
       "|---|---|---|---|---|\n",
       "| glmnet    | 1.0000000 | \n",
       "| knn       | 1.0000000 | \n",
       "| nnet      | 1.0000000 | \n",
       "| C5.0      | 0.9333333 | \n",
       "| rf        | 1.0000000 | \n",
       "\n",
       "\n"
      ],
      "text/plain": [
       "  Model  Accuracy \n",
       "1 glmnet 1.0000000\n",
       "2 knn    1.0000000\n",
       "3 nnet   1.0000000\n",
       "4 C5.0   0.9333333\n",
       "5 rf     1.0000000"
      ]
     },
     "metadata": {},
     "output_type": "display_data"
    }
   ],
   "source": [
    "createPredictModels <- function(dataset, modellist, packType = \"caret\"){\n",
    "  ret <- list()\n",
    "  \n",
    "  for(model in modellist){\n",
    "      modelName <- model$method\n",
    "      ret[[modelName]] <- predict(model, dataset) \n",
    "    }\n",
    "    \n",
    "  return(ret)\n",
    "}\n",
    "\n",
    "evalModelListsAccsDf <- function(modellist, data, outcomeVar, packType = \"caret\", evalMetric = \"Accuracy\"){\n",
    "  \n",
    "  Model <- c();\n",
    "  Accuracy <- c();\n",
    "  cnt <- 1\n",
    "  modelNames <- names(modellist)\n",
    "  \n",
    "  for (model in modellist){\n",
    "      \n",
    "      confMat <- confusionMatrix(model, data[,outcomeVar])\n",
    "      Model[cnt] <- modelNames[cnt] \n",
    "      Accuracy[cnt] <- confMat[[c(\"overall\",evalMetric)]]\n",
    "      cnt <- cnt + 1\n",
    "  }\n",
    "\n",
    "    return(data.frame(Model, Accuracy))\n",
    "  \n",
    "  \n",
    "}\n",
    "\n",
    "predictFunc = function(){\n",
    "     library(caret)\n",
    "     modeltoLoad <- \"myCreatedModels\"\n",
    "     load(modeltoLoad)\n",
    "     training <- read.csv('training.csv', header = TRUE, sep = \";\", quote = \"\\\"\",dec = \".\", fill = TRUE, comment.char = \"\")\n",
    "     testData <- read.csv('test.csv', header = TRUE, sep = \";\", quote = \"\\\"\",dec = \".\", fill = TRUE, comment.char = \"\")\n",
    "     \n",
    "     predictTrainCaretModels <- createPredictModels(training, trainedModels)\n",
    "     predictTestCaretModels <- createPredictModels(testData, trainedModels)\n",
    "     outcomeVar = 'human.body.structure'\n",
    "     evalMetric <- \"Accuracy\"\n",
    "     evalCaretModelsTraining <- evalModelListsAccsDf(predictTrainCaretModels, training, outcomeVar, evalMetric = evalMetric)\n",
    "     evalCaretModelsTest <- evalModelListsAccsDf(predictTestCaretModels, testData, outcomeVar, evalMetric = evalMetric)\n",
    "   \n",
    "    #evalCaretModelsTraining\n",
    "    evalCaretModelsTest\n",
    "\n",
    "}\n",
    "\n",
    "predictFunc()"
   ]
  },
  {
   "cell_type": "code",
   "execution_count": 11,
   "metadata": {},
   "outputs": [
    {
     "data": {
      "text/html": [
       "'bad body structure'"
      ],
      "text/latex": [
       "'bad body structure'"
      ],
      "text/markdown": [
       "'bad body structure'"
      ],
      "text/plain": [
       "[1] \"bad body structure\""
      ]
     },
     "metadata": {},
     "output_type": "display_data"
    }
   ],
   "source": [
    "#ketos_predict\n",
    "ketos_predict = function(){\n",
    "    ketos_predict_data = (\"tmpDummyUrl-will be set by system automatically\")\n",
    "    load(\"myCreatedModels\")\n",
    "    predict_data <- read.csv('test_input.csv', header = TRUE, sep = \";\", quote = \"\\\"\",dec = \".\", fill = TRUE, comment.char = \"\")\n",
    "    model = trainedModels$glmnet\n",
    "    prediction = predict(model, predict_data)\n",
    "    return (prediction)\n",
    "}\n",
    "\n",
    "as.character(ketos_predict())"
   ]
  },
  {
   "cell_type": "code",
   "execution_count": null,
   "metadata": {},
   "outputs": [],
   "source": []
  }
 ],
 "metadata": {
  "celltoolbar": "Edit Metadata",
  "kernelspec": {
   "display_name": "R",
   "language": "R",
   "name": "ir"
  },
  "language_info": {
   "codemirror_mode": "r",
   "file_extension": ".r",
   "mimetype": "text/x-r-source",
   "name": "R",
   "pygments_lexer": "r",
   "version": "3.4.0"
  }
 },
 "nbformat": 4,
 "nbformat_minor": 2
}
